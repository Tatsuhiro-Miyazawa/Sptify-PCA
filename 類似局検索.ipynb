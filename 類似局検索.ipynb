{
 "cells": [
  {
   "cell_type": "code",
   "execution_count": null,
   "id": "b21d148a-d4a9-4de6-943b-f183500f8224",
   "metadata": {},
   "outputs": [],
   "source": [
    "pip install spotipy"
   ]
  },
  {
   "cell_type": "code",
   "execution_count": null,
   "id": "73d38157-5678-48cb-922c-b3c0dc4cd371",
   "metadata": {},
   "outputs": [],
   "source": [
    "import pandas as pd\n",
    "import spotipy\n",
    "from spotipy.oauth2 import SpotifyClientCredentials\n",
    "import time\n",
    "\n",
    "client_id = '個人情報のため非掲載'\n",
    "client_secret = '個人情報のため非掲載'\n",
    "\n",
    "client_credentials_manager = SpotifyClientCredentials(client_id, client_secret)\n",
    "sp = spotipy.Spotify(client_credentials_manager=client_credentials_manager)\n",
    "\n",
    "def getTrackIDs(playlist_ids):\n",
    "  track_ids = []\n",
    "\n",
    "  for playlist_id in playlist_ids:\n",
    "    playlist = sp.playlist(playlist_id)\n",
    "    while playlist['tracks']['next']:\n",
    "      for item in playlist['tracks']['items']:\n",
    "        track = item['track']\n",
    "        if not track['id'] in track_ids:\n",
    "          track_ids.append(track['id'])\n",
    "      playlist['tracks'] = sp.next(playlist['tracks'])\n",
    "    else:\n",
    "      for item in playlist['tracks']['items']:\n",
    "        track = item['track']\n",
    "        if not track['id'] in track_ids:\n",
    "          track_ids.append(track['id'])\n",
    "\n",
    "  return track_ids\n",
    "\n",
    "playlist_ids = ['37i9dQZF1DX03b46zi3S82']\n",
    "track_ids = getTrackIDs(playlist_ids)\n",
    "print(len(track_ids))\n",
    "print(track_ids)\n",
    "\n",
    "#Peaceful Piano                37i9dQZF1DX4sWSpwq3LiO\n",
    "#Calm Vibes                   37i9dQZF1DX1s9knjP51Oa\n",
    "#Classical Sleep                37i9dQZF1DX8Sz1gsYZdwj\n",
    "#Atmospheric Piano            37i9dQZF1DWURCUKHUKWCX\n",
    "#Instrumental Study            37i9dQZF1DX9sIqqvKsjG8\n",
    "#Piano in the Background      37i9dQZF1DX7K31D69s4M1\n",
    "#Sleepy Piano                  37i9dQZF1DX03b46zi3S82\n",
    "#Melancholy Instrumentals　　　    37i9dQZF1DWZrc3lwvImLj\n",
    "\n",
    "#自曲NeoClassical    5so5bRjsngVqRvRzMVqbhc"
   ]
  },
  {
   "cell_type": "code",
   "execution_count": null,
   "id": "e01017f8-abc1-4c49-9ced-924c188b567b",
   "metadata": {},
   "outputs": [],
   "source": [
    "def getTrackFeatures(id):\n",
    "  meta = sp.track(id)\n",
    "  features = sp.audio_features(id)\n",
    "  #idが情報を持っていない場合、実行をスキップする\n",
    "\n",
    "  #if構文を入れる（trackが削除されている場合を想定する）\n",
    "  if features[0] is None:\n",
    "    return ''\n",
    "  else:\n",
    "    track_id = meta[\"id\"]\n",
    "    name = meta['name']\n",
    "    album = meta['album']['name']\n",
    "    artist = meta['album']['artists'][0]['name']\n",
    "    release_date = meta['album']['release_date']\n",
    "    length = meta['duration_ms']\n",
    "    popularity = meta['popularity']\n",
    "    key = features[0]['key']\n",
    "    mode = features[0]['mode']\n",
    "    danceability = features[0]['danceability']\n",
    "    acousticness = features[0]['acousticness']\n",
    "    energy = features[0]['energy']\n",
    "    instrumentalness = features[0]['instrumentalness']\n",
    "    liveness = features[0]['liveness']\n",
    "    loudness = features[0]['loudness']\n",
    "    speechiness = features[0]['speechiness']\n",
    "    tempo = features[0]['tempo']\n",
    "    time_signature = features[0]['time_signature']\n",
    "    valence = features[0]['valence']\n",
    "\n",
    "    track = [track_id, name, album, artist, release_date, length, popularity, key, mode, danceability, acousticness, energy, instrumentalness, liveness, loudness, speechiness, tempo, time_signature, valence]\n",
    "    return track\n",
    "\n",
    "tracks = []\n",
    "for track_id in track_ids:\n",
    "  time.sleep(0.5)\n",
    "  track = getTrackFeatures(track_id)\n",
    "\n",
    "  if track != '':\n",
    "    tracks.append(track)\n",
    "\n",
    "df = pd.DataFrame(tracks, columns = ['track_id', 'name', 'album', 'artist', 'release_date', 'length', 'popularity', 'key', 'mode', 'danceability', 'acousticness', 'energy', 'instrumentalness', 'liveness', 'loudness', 'speechiness', 'tempo', 'time_signature', 'valence'])\n",
    "df.head()\n"
   ]
  },
  {
   "cell_type": "code",
   "execution_count": null,
   "id": "c1f83889-4f8e-4971-b249-55c43ab26f41",
   "metadata": {},
   "outputs": [],
   "source": [
    "from google.colab import drive\n",
    "drive.mount('/content/drive')"
   ]
  },
  {
   "cell_type": "code",
   "execution_count": null,
   "id": "2f2d1bd9-712e-4d8d-ab5a-d278d860c7e5",
   "metadata": {},
   "outputs": [],
   "source": [
    "#新規CSVのインポート\n",
    "df.to_csv('spotify_music_data.csv', sep = ',')\n",
    "\n",
    "from google.colab import files\n",
    "files.download('spotify_music_data.csv')"
   ]
  },
  {
   "cell_type": "code",
   "execution_count": null,
   "id": "7175eeaa-0283-4014-82c3-a3110180e3e6",
   "metadata": {},
   "outputs": [],
   "source": [
    "#プレイリストを更新する。\n",
    "import os\n",
    "os.environ[\"SPOTIPY_CLIENT_ID\"] = \"個人情報のため非掲載\"\n",
    "os.environ[\"SPOTIPY_CLIENT_SECRET\"] = \"個人情報のため非掲載\"\n",
    "os.environ[\"SPOTIPY_REDIRECT_URI\"] = \"https://localhost:8888/callback\""
   ]
  },
  {
   "cell_type": "code",
   "execution_count": null,
   "id": "a5590970-1ba3-4476-8def-1d324ebc8f36",
   "metadata": {},
   "outputs": [],
   "source": [
    "# プレイリストの曲全削除\n",
    "import spotipy\n",
    "from spotipy.oauth2 import SpotifyOAuth\n",
    "\n",
    "username = \"個人情報のため非掲載\"\n",
    "scope = \"user-library-read user-read-playback-state playlist-read-private user-read-recently-played playlist-read-collaborative playlist-modify-public playlist-modify-private\"\n",
    "\n",
    "playlist_id = \"個人情報のため非掲載\"\n",
    "\n",
    "spotify = spotipy.Spotify(auth_manager=SpotifyOAuth(open_browser=False, scope=scope))\n",
    "tracks_json = spotify.playlist_items(playlist_id)\n",
    "track_items = tracks_json[\"items\"]\n",
    "\n",
    "tracks = [track_item[\"track\"][\"id\"] for track_item in track_items if track_item[\"track\"] is not None]\n",
    "\n",
    "spotify.playlist_remove_all_occurrences_of_items(playlist_id, tracks)"
   ]
  },
  {
   "cell_type": "code",
   "execution_count": null,
   "id": "f0765136-e083-405e-acb9-e9a46b66d68d",
   "metadata": {},
   "outputs": [],
   "source": [
    "USERNAME = \"個人情報のため非掲載\"\n",
    "SCOPE = \"user-library-read user-read-playback-state playlist-read-private user-read-recently-played playlist-read-collaborative playlist-modify-public playlist-modify-private\"\n",
    "\n",
    "spotify = spotipy.Spotify(auth_manager=SpotifyOAuth(open_browser=False, scope=SCOPE))\n",
    "snapshot_id = \"個人情報のため非掲載\"\n",
    "playlist = \"個人情報のため非掲載\"\n",
    "track_id = urls\n",
    "\n",
    "spotify.user_playlist_add_tracks(USERNAME, playlist, track_id)\n",
    "print(\"プレイリストに曲を追加しました！\")"
   ]
  }
 ],
 "metadata": {
  "kernelspec": {
   "display_name": "Python 3 (ipykernel)",
   "language": "python",
   "name": "python3"
  },
  "language_info": {
   "codemirror_mode": {
    "name": "ipython",
    "version": 3
   },
   "file_extension": ".py",
   "mimetype": "text/x-python",
   "name": "python",
   "nbconvert_exporter": "python",
   "pygments_lexer": "ipython3",
   "version": "3.9.12"
  }
 },
 "nbformat": 4,
 "nbformat_minor": 5
}
